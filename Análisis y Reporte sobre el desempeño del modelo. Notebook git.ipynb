{
 "cells": [
  {
   "cell_type": "markdown",
   "id": "b416059e",
   "metadata": {},
   "source": [
    "#  Regresión Lineal uso de Framework + Análisis"
   ]
  },
  {
   "cell_type": "markdown",
   "id": "e85f1106",
   "metadata": {},
   "source": [
    "Se importan las librerías que se planean utilizar para la implementación y evaluación del modelo."
   ]
  },
  {
   "cell_type": "code",
   "execution_count": 1,
   "id": "de2bbfcc",
   "metadata": {},
   "outputs": [],
   "source": [
    "#Importar librerías\n",
    "import pandas as pd\n",
    "import numpy as np\n",
    "import seaborn as sb\n",
    "import matplotlib.pyplot as plt\n",
    "%matplotlib inline\n",
    "from mpl_toolkits.mplot3d import Axes3D\n",
    "from matplotlib import cm\n",
    "plt.rcParams['figure.figsize'] = (14, 6)\n",
    "plt.style.use('ggplot')\n",
    "from sklearn import linear_model\n",
    "from sklearn.metrics import mean_squared_error, r2_score\n",
    "from sklearn.model_selection import train_test_split"
   ]
  },
  {
   "cell_type": "markdown",
   "id": "782a3778",
   "metadata": {},
   "source": [
    "Lectura de los datos sobre el PIB de Estados Unidos (desde 1947 hasta 2020), se toman solo los primeros datos de cada año, estos hacen referencia al primer trimestre del año."
   ]
  },
  {
   "cell_type": "code",
   "execution_count": 2,
   "id": "87146256",
   "metadata": {},
   "outputs": [
    {
     "name": "stderr",
     "output_type": "stream",
     "text": [
      "c:\\users\\mariana\\appdata\\local\\programs\\python\\python37\\lib\\site-packages\\ipykernel_launcher.py:3: SettingWithCopyWarning: \n",
      "A value is trying to be set on a copy of a slice from a DataFrame\n",
      "\n",
      "See the caveats in the documentation: https://pandas.pydata.org/pandas-docs/stable/user_guide/indexing.html#returning-a-view-versus-a-copy\n",
      "  This is separate from the ipykernel package so we can avoid doing imports until\n"
     ]
    },
    {
     "data": {
      "text/html": [
       "<div>\n",
       "<style scoped>\n",
       "    .dataframe tbody tr th:only-of-type {\n",
       "        vertical-align: middle;\n",
       "    }\n",
       "\n",
       "    .dataframe tbody tr th {\n",
       "        vertical-align: top;\n",
       "    }\n",
       "\n",
       "    .dataframe thead th {\n",
       "        text-align: right;\n",
       "    }\n",
       "</style>\n",
       "<table border=\"1\" class=\"dataframe\">\n",
       "  <thead>\n",
       "    <tr style=\"text-align: right;\">\n",
       "      <th></th>\n",
       "      <th>DATE</th>\n",
       "      <th>GDP</th>\n",
       "    </tr>\n",
       "  </thead>\n",
       "  <tbody>\n",
       "    <tr>\n",
       "      <th>0</th>\n",
       "      <td>1947</td>\n",
       "      <td>243.164</td>\n",
       "    </tr>\n",
       "    <tr>\n",
       "      <th>4</th>\n",
       "      <td>1948</td>\n",
       "      <td>265.742</td>\n",
       "    </tr>\n",
       "    <tr>\n",
       "      <th>8</th>\n",
       "      <td>1949</td>\n",
       "      <td>275.034</td>\n",
       "    </tr>\n",
       "    <tr>\n",
       "      <th>12</th>\n",
       "      <td>1950</td>\n",
       "      <td>280.828</td>\n",
       "    </tr>\n",
       "    <tr>\n",
       "      <th>16</th>\n",
       "      <td>1951</td>\n",
       "      <td>336.000</td>\n",
       "    </tr>\n",
       "  </tbody>\n",
       "</table>\n",
       "</div>"
      ],
      "text/plain": [
       "    DATE      GDP\n",
       "0   1947  243.164\n",
       "4   1948  265.742\n",
       "8   1949  275.034\n",
       "12  1950  280.828\n",
       "16  1951  336.000"
      ]
     },
     "execution_count": 2,
     "metadata": {},
     "output_type": "execute_result"
    }
   ],
   "source": [
    "datos=pd.read_csv(\"GDP.csv\")\n",
    "for i in range(len(datos)):\n",
    "    datos['DATE'][i]=datos['DATE'][i][0:4]\n",
    "datos = datos.drop_duplicates(subset=['DATE'])\n",
    "datos['DATE']=pd.to_numeric(datos['DATE'], errors='coerce')\n",
    "datos.head()"
   ]
  },
  {
   "cell_type": "markdown",
   "id": "991ad915",
   "metadata": {},
   "source": [
    "Gráficas comportamiento de los datos."
   ]
  },
  {
   "cell_type": "code",
   "execution_count": 3,
   "id": "50eeb4d4",
   "metadata": {},
   "outputs": [
    {
     "data": {
      "image/png": "[encoded data removed]",
      "text/plain": [
       "<Figure size 1008x432 with 1 Axes>"
      ]
     },
     "metadata": {},
     "output_type": "display_data"
    }
   ],
   "source": [
    "datos['GDP'].hist(color='#CBA0AE')\n",
    "plt.show()"
   ]
  },
  {
   "cell_type": "code",
   "execution_count": 5,
   "id": "b588240b",
   "metadata": {},
   "outputs": [
    {
     "data": {
      "image/png": "[encoded data removed]",
      "text/plain": [
       "<Figure size 1008x432 with 1 Axes>"
      ]
     },
     "metadata": {},
     "output_type": "display_data"
    }
   ],
   "source": [
    "datos.plot.scatter(x='DATE',y='GDP',c='#AC7D88')\n",
    "plt.show()"
   ]
  },
  {
   "cell_type": "markdown",
   "id": "ff792747",
   "metadata": {},
   "source": [
    "Separación de datos en Variable dependiente y Variable(s) predictora(s)"
   ]
  },
  {
   "cell_type": "code",
   "execution_count": 6,
   "id": "67676ebc",
   "metadata": {},
   "outputs": [
    {
     "data": {
      "text/plain": [
       "((74, 1), (74,))"
      ]
     },
     "execution_count": 6,
     "metadata": {},
     "output_type": "execute_result"
    }
   ],
   "source": [
    "X=datos['DATE'].values.reshape(-1,1)\n",
    "y=datos['GDP'].values\n",
    "X.shape, y.shape"
   ]
  },
  {
   "cell_type": "markdown",
   "id": "681a5026",
   "metadata": {},
   "source": [
    "Separación de las variables en entrenamiento y prueba"
   ]
  },
  {
   "cell_type": "code",
   "execution_count": 7,
   "id": "3356fc40",
   "metadata": {},
   "outputs": [
    {
     "data": {
      "text/plain": [
       "((60, 1), (60,), (14, 1), (14,))"
      ]
     },
     "execution_count": 7,
     "metadata": {},
     "output_type": "execute_result"
    }
   ],
   "source": [
    "X_train=X[0:60]\n",
    "X_test=X[60:]\n",
    "y_train=y[0:60]\n",
    "y_test=y[60:]\n",
    "X_train.shape,y_train.shape,X_test.shape,y_test.shape"
   ]
  },
  {
   "cell_type": "markdown",
   "id": "69765605",
   "metadata": {},
   "source": [
    "Entrenamiento del modelo utilizando las funciones importadas, adicional se implementan técnicas de evaluación del modelo."
   ]
  },
  {
   "cell_type": "code",
   "execution_count": 10,
   "id": "e7d76771",
   "metadata": {},
   "outputs": [
    {
     "name": "stdout",
     "output_type": "stream",
     "text": [
      "Coeficiente X_1: \n",
      " [203.43249222]\n",
      "Intercepto: \n",
      " -398350.82422295096\n",
      "Mean squared error: 2198834.08\n",
      "Variance score: 0.85\n"
     ]
    }
   ],
   "source": [
    "regr = linear_model.LinearRegression()\n",
    "regr.fit(X_train, y_train)\n",
    "print('Coeficiente X_1: \\n', regr.coef_)\n",
    "print('Intercepto: \\n', regr.intercept_)\n",
    "y_pred=regr.predict(X_train)\n",
    "print(\"Mean squared error: %.2f\" % mean_squared_error(y_train, y_pred))\n",
    "print('Variance score: %.2f' % r2_score(y_train, y_pred))"
   ]
  },
  {
   "cell_type": "markdown",
   "id": "c679d213",
   "metadata": {},
   "source": [
    "Gráfico del modelo que se genera con la regresión lineal"
   ]
  },
  {
   "cell_type": "code",
   "execution_count": 12,
   "id": "e4c5deef",
   "metadata": {},
   "outputs": [
    {
     "data": {
      "image/png": "[encoded data removed]",
      "text/plain": [
       "<Figure size 1008x432 with 1 Axes>"
      ]
     },
     "metadata": {},
     "output_type": "display_data"
    }
   ],
   "source": [
    "y_pred = regr.predict(X_train)\n",
    "d = {'X_train': X_train.reshape(60), 'y_pred': y_pred, 'y_train': y_train}\n",
    "datos_pred=pd.DataFrame(data=d)\n",
    "datos_pred.plot.line(x='X_train',y='y_pred',c='#FF0063')\n",
    "plt.show()"
   ]
  },
  {
   "cell_type": "code",
   "execution_count": 25,
   "id": "4ea5c791",
   "metadata": {},
   "outputs": [
    {
     "data": {
      "image/png": "[encoded data removed]",
      "text/plain": [
       "<Figure size 1008x432 with 1 Axes>"
      ]
     },
     "metadata": {},
     "output_type": "display_data"
    }
   ],
   "source": [
    "import seaborn as sns\n",
    "sns.regplot(data=datos, x='DATE', y='GDP', ci=None, color='c')\n",
    "plt.show()"
   ]
  },
  {
   "cell_type": "code",
   "execution_count": 26,
   "id": "aa9b0390",
   "metadata": {},
   "outputs": [
    {
     "data": {
      "text/html": [
       "<div>\n",
       "<style scoped>\n",
       "    .dataframe tbody tr th:only-of-type {\n",
       "        vertical-align: middle;\n",
       "    }\n",
       "\n",
       "    .dataframe tbody tr th {\n",
       "        vertical-align: top;\n",
       "    }\n",
       "\n",
       "    .dataframe thead th {\n",
       "        text-align: right;\n",
       "    }\n",
       "</style>\n",
       "<table border=\"1\" class=\"dataframe\">\n",
       "  <thead>\n",
       "    <tr style=\"text-align: right;\">\n",
       "      <th></th>\n",
       "      <th>DATE</th>\n",
       "      <th>GDP</th>\n",
       "    </tr>\n",
       "  </thead>\n",
       "  <tbody>\n",
       "    <tr>\n",
       "      <th>count</th>\n",
       "      <td>74.000000</td>\n",
       "      <td>74.000000</td>\n",
       "    </tr>\n",
       "    <tr>\n",
       "      <th>mean</th>\n",
       "      <td>1983.500000</td>\n",
       "      <td>6288.724365</td>\n",
       "    </tr>\n",
       "    <tr>\n",
       "      <th>std</th>\n",
       "      <td>21.505813</td>\n",
       "      <td>6443.777922</td>\n",
       "    </tr>\n",
       "    <tr>\n",
       "      <th>min</th>\n",
       "      <td>1947.000000</td>\n",
       "      <td>243.164000</td>\n",
       "    </tr>\n",
       "    <tr>\n",
       "      <th>25%</th>\n",
       "      <td>1965.250000</td>\n",
       "      <td>737.276000</td>\n",
       "    </tr>\n",
       "    <tr>\n",
       "      <th>50%</th>\n",
       "      <td>1983.500000</td>\n",
       "      <td>3690.733500</td>\n",
       "    </tr>\n",
       "    <tr>\n",
       "      <th>75%</th>\n",
       "      <td>2001.750000</td>\n",
       "      <td>10709.933750</td>\n",
       "    </tr>\n",
       "    <tr>\n",
       "      <th>max</th>\n",
       "      <td>2020.000000</td>\n",
       "      <td>21539.689000</td>\n",
       "    </tr>\n",
       "  </tbody>\n",
       "</table>\n",
       "</div>"
      ],
      "text/plain": [
       "              DATE           GDP\n",
       "count    74.000000     74.000000\n",
       "mean   1983.500000   6288.724365\n",
       "std      21.505813   6443.777922\n",
       "min    1947.000000    243.164000\n",
       "25%    1965.250000    737.276000\n",
       "50%    1983.500000   3690.733500\n",
       "75%    2001.750000  10709.933750\n",
       "max    2020.000000  21539.689000"
      ]
     },
     "execution_count": 26,
     "metadata": {},
     "output_type": "execute_result"
    }
   ],
   "source": [
    "datos.describe()"
   ]
  },
  {
   "cell_type": "markdown",
   "id": "1cf04a84",
   "metadata": {},
   "source": [
    "Metricas datos de entrenamiento y datos de prueba"
   ]
  },
  {
   "cell_type": "code",
   "execution_count": 29,
   "id": "0b95adea",
   "metadata": {},
   "outputs": [
    {
     "name": "stdout",
     "output_type": "stream",
     "text": [
      "Mean squared error: 2198834.08\n",
      "Variance score: 0.85\n"
     ]
    }
   ],
   "source": [
    "y_pred = regr.predict(X_train)\n",
    "print(\"Mean squared error: %.2f\" % mean_squared_error(y_train, y_pred))\n",
    "print('Variance score: %.2f' % r2_score(y_train, y_pred))"
   ]
  },
  {
   "cell_type": "code",
   "execution_count": 30,
   "id": "5ea403ca",
   "metadata": {},
   "outputs": [
    {
     "name": "stdout",
     "output_type": "stream",
     "text": [
      "Mean squared error: 38462555.38\n",
      "Variance score: -5.43\n"
     ]
    }
   ],
   "source": [
    "y_pred = regr.predict(X_test)\n",
    "print(\"Mean squared error: %.2f\" % mean_squared_error(y_test, y_pred))\n",
    "print('Variance score: %.2f' % r2_score(y_test, y_pred))"
   ]
  },
  {
   "cell_type": "markdown",
   "id": "319fe541",
   "metadata": {},
   "source": [
    "Mejoras en el modelo"
   ]
  },
  {
   "cell_type": "code",
   "execution_count": 41,
   "id": "b1bfcfba",
   "metadata": {},
   "outputs": [
    {
     "name": "stdout",
     "output_type": "stream",
     "text": [
      "Coeficiente X_1: \n",
      " [280.4304114]\n",
      "Intercepto: \n",
      " -549983.9514857067\n",
      "Mean squared error: 4951297.24\n",
      "Variance score: 0.88\n"
     ]
    }
   ],
   "source": [
    "X_train, X_test, y_train, y_test = train_test_split(X, y, test_size=0.10)\n",
    "regr = linear_model.LinearRegression()\n",
    "regr.fit(X_train, y_train)\n",
    "print('Coeficiente X_1: \\n', regr.coef_)\n",
    "print('Intercepto: \\n', regr.intercept_)\n",
    "y_pred=regr.predict(X_train)\n",
    "print(\"Mean squared error: %.2f\" % mean_squared_error(y_train, y_pred))\n",
    "print('Variance score: %.2f' % r2_score(y_train, y_pred))"
   ]
  }
 ],
 "metadata": {
  "kernelspec": {
   "display_name": "Python 3",
   "language": "python",
   "name": "python3"
  },
  "language_info": {
   "codemirror_mode": {
    "name": "ipython",
    "version": 3
   },
   "file_extension": ".py",
   "mimetype": "text/x-python",
   "name": "python",
   "nbconvert_exporter": "python",
   "pygments_lexer": "ipython3",
   "version": "3.7.4"
  }
 },
 "nbformat": 4,
 "nbformat_minor": 5
}
